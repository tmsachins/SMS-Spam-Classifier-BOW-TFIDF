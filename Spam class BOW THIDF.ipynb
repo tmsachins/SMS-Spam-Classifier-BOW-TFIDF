{
 "cells": [
  {
   "cell_type": "code",
   "execution_count": null,
   "metadata": {},
   "outputs": [],
   "source": [
    "import pandas as pd\n",
    "messages=pd.read_csv('smsspamcollection/SMSSpamCollection',sep='\\t',names=[\"label\",\"message\"])"
   ]
  }
 ],
 "metadata": {
  "kernelspec": {
   "display_name": "Python 3",
   "language": "python",
   "name": "python3"
  },
  "language_info": {
   "name": "python",
   "version": "3.9.21"
  }
 },
 "nbformat": 4,
 "nbformat_minor": 2
}
